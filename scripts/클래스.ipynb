{
 "cells": [
  {
   "cell_type": "code",
   "execution_count": 2,
   "metadata": {},
   "outputs": [],
   "source": [
    "#ex1\n",
    "# 캐릭터 클래스 생성하기\n",
    "class character:\n",
    "    def hi():\n",
    "        print(\"안녕하세요.\")"
   ]
  },
  {
   "cell_type": "code",
   "execution_count": 3,
   "metadata": {},
   "outputs": [
    {
     "data": {
      "text/plain": [
       "__main__.character"
      ]
     },
     "execution_count": 3,
     "metadata": {},
     "output_type": "execute_result"
    }
   ],
   "source": [
    "#ex2\n",
    "# 검술사 객체 생성하기\n",
    "swordsman = character()\n",
    "# 객체 타입 확인하기\n",
    "type(swordsman)"
   ]
  },
  {
   "cell_type": "code",
   "execution_count": 4,
   "metadata": {},
   "outputs": [],
   "source": [
    "#ex3\n",
    "# 요청 객체 생성하기\n",
    "fairy = character()\n",
    "# 도적 객체 생성하기\n",
    "thief = character()"
   ]
  },
  {
   "cell_type": "code",
   "execution_count": 5,
   "metadata": {},
   "outputs": [
    {
     "ename": "TypeError",
     "evalue": "character.hi() takes 0 positional arguments but 1 was given",
     "output_type": "error",
     "traceback": [
      "\u001b[1;31m---------------------------------------------------------------------------\u001b[0m",
      "\u001b[1;31mTypeError\u001b[0m                                 Traceback (most recent call last)",
      "Cell \u001b[1;32mIn[5], line 1\u001b[0m\n\u001b[1;32m----> 1\u001b[0m swordsman\u001b[39m.\u001b[39;49mhi()\n",
      "\u001b[1;31mTypeError\u001b[0m: character.hi() takes 0 positional arguments but 1 was given"
     ]
    }
   ],
   "source": [
    "#ex4\n",
    "swordsman.hi()"
   ]
  },
  {
   "cell_type": "code",
   "execution_count": 6,
   "metadata": {},
   "outputs": [],
   "source": [
    "#ex5\n",
    "# 캐릭터 클래스 생성하기\n",
    "class Character:\n",
    "    def hi(self):\n",
    "        print('안녕하세요')"
   ]
  },
  {
   "cell_type": "code",
   "execution_count": 7,
   "metadata": {},
   "outputs": [
    {
     "name": "stdout",
     "output_type": "stream",
     "text": [
      "안녕하세요\n"
     ]
    }
   ],
   "source": [
    "#ex6\n",
    "# 검술사 객체 생성하기\n",
    "swordsman = Character()\n",
    "# 검술사 객체의 메서드 실행하기\n",
    "swordsman.hi()"
   ]
  },
  {
   "cell_type": "code",
   "execution_count": 8,
   "metadata": {},
   "outputs": [
    {
     "name": "stdout",
     "output_type": "stream",
     "text": [
      "안녕! 난 검술사\n"
     ]
    }
   ],
   "source": [
    "#ex7\n",
    "# 메서드 hi()에 매개변수 name 추가하기\n",
    "class Character:\n",
    "    def hi(self, name):\n",
    "        print('안녕! 난', name)\n",
    "\n",
    "swordsman = Character()\n",
    "swordsman.hi('검술사')"
   ]
  },
  {
   "cell_type": "code",
   "execution_count": 9,
   "metadata": {},
   "outputs": [
    {
     "name": "stdout",
     "output_type": "stream",
     "text": [
      "도적 을/를 공격합니다!\n"
     ]
    }
   ],
   "source": [
    "#ex8\n",
    "# Character 클래스에 메서드 attack() 추가\n",
    "class Character:\n",
    "    def hi(self, name):\n",
    "        print('안녕! 난', name)\n",
    "\n",
    "    def attack(self, target):\n",
    "        print(target, '을/를 공격합니다!')\n",
    "swordsman = Character()\n",
    "swordsman.attack('도적')"
   ]
  },
  {
   "cell_type": "code",
   "execution_count": 14,
   "metadata": {},
   "outputs": [],
   "source": [
    "#ex9\n",
    "class Character:\n",
    "    def __init__(self, name, hp, ad):\n",
    "        self.name = name\n",
    "        self.strength = hp\n",
    "        self.attack_damage = ad\n",
    "        print('Character 클래스의 객체 생성 =>', self.name)"
   ]
  },
  {
   "cell_type": "code",
   "execution_count": 15,
   "metadata": {},
   "outputs": [
    {
     "name": "stdout",
     "output_type": "stream",
     "text": [
      "Character 클래스의 객체 생성 => 검술사\n"
     ]
    }
   ],
   "source": [
    "#ex10\n",
    "# swordsman = Character() # 오류\n",
    "swordsman = Character('검술사', 100, 10)"
   ]
  },
  {
   "cell_type": "code",
   "execution_count": 25,
   "metadata": {},
   "outputs": [
    {
     "name": "stdout",
     "output_type": "stream",
     "text": [
      "Character 클래스의 객체 생성 => 검술사\n",
      "이름=> 검술사 , 체력=> 100 , 공격력=> 10\n",
      "이름=> 검술사 , 체력=> 120 , 공격력=> 15\n"
     ]
    }
   ],
   "source": [
    "#ex11\n",
    "class Character:\n",
    "    def __init__(self, name, hp, ad):\n",
    "        self.name = name\n",
    "        self.strength = hp\n",
    "        self.attack_damage = ad\n",
    "        print('Character 클래스의 객체 생성 =>', self.name)\n",
    "\n",
    "    # 인스턴스 속성을 알려주는 메서드 information() 추가\n",
    "    def information(self):\n",
    "        print('이름=>', self.name, ', 체력=>', self.strength, ', 공격력=>', self.attack_damage)\n",
    "\n",
    "    def attack(self, target):\n",
    "        print(target, '을/를 공격합니다!')\n",
    "\n",
    "# 객체 생성 (체력=100, 공격력=10)\n",
    "swordsman = Character('검술사', 100, 10)\n",
    "\n",
    "# 인스턴스 정보 확인\n",
    "swordsman.information()\n",
    "\n",
    "# 인스턴스 속성 변경하기 (체력=120, 공격력=15)\n",
    "swordsman.strength = 120\n",
    "swordsman.attack_damage = 15\n",
    "\n",
    "# 검술사 체력을 120, 공격력은 15으로 변경\n",
    "swordsman.information()"
   ]
  },
  {
   "cell_type": "code",
   "execution_count": 35,
   "metadata": {},
   "outputs": [],
   "source": [
    "#ex12\n",
    "class Character:\n",
    "    def __init__(self, name, hp, ad):\n",
    "        self.name = name\n",
    "        self.strength = hp\n",
    "        self.attack_damage = ad\n",
    "        print('Character 클래스의 객체 생성 =>', self.name)\n",
    "\n",
    "    # 인스턴스 속성을 알려주는 메서드 information() 추가\n",
    "    def information(self):\n",
    "        print('이름=>', self.name, ', 체력=>', self.strength, ', 공격력=>', self.attack_damage)\n",
    "\n",
    "    # target에 공격 대상(객체)를 전달\n",
    "    def attack(self, target):\n",
    "        # 공격 주체와 대상을 출력\n",
    "        print(self.name, '이/가', target.name, '(', target.strength, ')', '을/를 공격합니다!')\n",
    "        # 공격받은 대상의 체력을 공격력만큼 감소\n",
    "        target.strength -= self.attack_damage\n",
    "        print('공격성공!', target.name, '(', target.strength, ')')"
   ]
  },
  {
   "cell_type": "code",
   "execution_count": 36,
   "metadata": {},
   "outputs": [
    {
     "name": "stdout",
     "output_type": "stream",
     "text": [
      "Character 클래스의 객체 생성 => 검술사\n",
      "Character 클래스의 객체 생성 => 요정\n",
      "Character 클래스의 객체 생성 => 도적\n"
     ]
    }
   ],
   "source": [
    "# 요청 객체 생성하기# 도적 객체 생성하기\n",
    "swordsman = Character('검술사', 100, 10)\n",
    "fairy = Character('요정', 60, 5)\n",
    "thief = Character('도적', 85, 8)"
   ]
  },
  {
   "cell_type": "code",
   "execution_count": 37,
   "metadata": {},
   "outputs": [
    {
     "name": "stdout",
     "output_type": "stream",
     "text": [
      "검술사 이/가 요정 ( 60 ) 을/를 공격합니다!\n",
      "공격성공! 요정 ( 50 )\n"
     ]
    }
   ],
   "source": [
    "# 검술사가 요정을 공격\n",
    "swordsman.attack(fairy)"
   ]
  },
  {
   "cell_type": "code",
   "execution_count": 38,
   "metadata": {},
   "outputs": [
    {
     "name": "stdout",
     "output_type": "stream",
     "text": [
      "도적 이/가 검술사 ( 100 ) 을/를 공격합니다!\n",
      "공격성공! 검술사 ( 92 )\n"
     ]
    }
   ],
   "source": [
    "# 도적이 검술사를 공격\n",
    "thief.attack(swordsman)"
   ]
  },
  {
   "cell_type": "code",
   "execution_count": 39,
   "metadata": {},
   "outputs": [
    {
     "name": "stdout",
     "output_type": "stream",
     "text": [
      "요정 이/가 도적 ( 85 ) 을/를 공격합니다!\n",
      "공격성공! 도적 ( 80 )\n"
     ]
    }
   ],
   "source": [
    "# 요정이 도적 공격\n",
    "fairy.attack(thief)"
   ]
  },
  {
   "cell_type": "code",
   "execution_count": 44,
   "metadata": {},
   "outputs": [],
   "source": [
    "#ex13\n",
    "class Product:\n",
    "    def __init__(self, n, p, s):\n",
    "        self.name, self.price, self.stock = n, p, s\n",
    "\n",
    "    def information(self):\n",
    "        print('상품 이름 : ', self.name)\n",
    "        print('상품 가격 : ', self.price)\n",
    "        print('남은 재고 : ', self.stock)"
   ]
  },
  {
   "cell_type": "code",
   "execution_count": 50,
   "metadata": {},
   "outputs": [],
   "source": [
    "class Member:\n",
    "    def __init__(self, n, j):\n",
    "        self.name, self.join_data = n, j\n",
    "        self.purchase_list = []\n",
    "        self.purchase_amount = 0\n",
    "    \n",
    "    def information(self):\n",
    "        print('회원 이름 : ', self.name)\n",
    "        print('가입 날짜 : ', self.join_data)\n",
    "        print('누적 구매금액 : ', self.purchase_amount)\n",
    "\n",
    "    # Product 객체가 인자로 전달됨\n",
    "    def buy(self, Product, num):\n",
    "        print(self.name, '고객님이', num, '개 구매!')\n",
    "        Product.stock -= num\n",
    "        self.purchase_list.append(Product.name)\n",
    "        self.purchase_amount += Product.price * num"
   ]
  },
  {
   "attachments": {},
   "cell_type": "markdown",
   "metadata": {},
   "source": [
    "2) 상품 등록\n",
    "* 1000원짜리 양말(socks) 10켤레 입고\n",
    "* 17500원짜리 책(books) 15권 입고"
   ]
  },
  {
   "cell_type": "code",
   "execution_count": 51,
   "metadata": {},
   "outputs": [],
   "source": [
    "# 물건 등록\n",
    "socks = Product('양말', 1000, 10)\n",
    "books = Product('책', 17500, 15)"
   ]
  },
  {
   "attachments": {},
   "cell_type": "markdown",
   "metadata": {},
   "source": [
    "3) 상품 정보 조회\n",
    "* 양말과 책 정보 조회"
   ]
  },
  {
   "cell_type": "code",
   "execution_count": 52,
   "metadata": {},
   "outputs": [
    {
     "name": "stdout",
     "output_type": "stream",
     "text": [
      "상품 이름 :  양말\n",
      "상품 가격 :  1000\n",
      "남은 재고 :  10\n",
      "상품 이름 :  책\n",
      "상품 가격 :  17500\n",
      "남은 재고 :  15\n"
     ]
    }
   ],
   "source": [
    "socks.information()\n",
    "books.information()"
   ]
  },
  {
   "attachments": {},
   "cell_type": "markdown",
   "metadata": {},
   "source": [
    "4) 회원 등록\n",
    "* Anna 가입 (가입날짜 : 20200420)\n",
    "* Grace 가입 (가입날짜 : 20200130)"
   ]
  },
  {
   "cell_type": "code",
   "execution_count": 53,
   "metadata": {},
   "outputs": [],
   "source": [
    "# 회원가입\n",
    "Anna = Member('Anna', 20200420)\n",
    "Grace = Member('Grace', 20200130)"
   ]
  },
  {
   "attachments": {},
   "cell_type": "markdown",
   "metadata": {},
   "source": [
    "5) 회원 정보 조회\n",
    "* Anna와 Grace 정보 조회"
   ]
  },
  {
   "cell_type": "code",
   "execution_count": 54,
   "metadata": {},
   "outputs": [
    {
     "name": "stdout",
     "output_type": "stream",
     "text": [
      "회원 이름 :  Anna\n",
      "가입 날짜 :  20200420\n",
      "누적 구매금액 :  0\n",
      "회원 이름 :  Grace\n",
      "가입 날짜 :  20200130\n",
      "누적 구매금액 :  0\n"
     ]
    }
   ],
   "source": [
    "Anna.information()\n",
    "Grace.information()"
   ]
  },
  {
   "attachments": {},
   "cell_type": "markdown",
   "metadata": {},
   "source": [
    "6) 회원의 물건 구매\n",
    "* Anna가 양말 1켤레 구입\n",
    "* Grace가 책 2권 구입"
   ]
  },
  {
   "cell_type": "code",
   "execution_count": 55,
   "metadata": {},
   "outputs": [
    {
     "name": "stdout",
     "output_type": "stream",
     "text": [
      "Anna 고객님이 1 개 구매!\n",
      "Grace 고객님이 2 개 구매!\n"
     ]
    }
   ],
   "source": [
    "Anna.buy(socks, 1)\n",
    "Grace.buy(books, 2)"
   ]
  }
 ],
 "metadata": {
  "kernelspec": {
   "display_name": "Python 3",
   "language": "python",
   "name": "python3"
  },
  "language_info": {
   "codemirror_mode": {
    "name": "ipython",
    "version": 3
   },
   "file_extension": ".py",
   "mimetype": "text/x-python",
   "name": "python",
   "nbconvert_exporter": "python",
   "pygments_lexer": "ipython3",
   "version": "3.11.2"
  },
  "orig_nbformat": 4,
  "vscode": {
   "interpreter": {
    "hash": "9f2d751933a5996b525ffba800f1a3f1fddb9439b82457ff3b88d87342d477cc"
   }
  }
 },
 "nbformat": 4,
 "nbformat_minor": 2
}
