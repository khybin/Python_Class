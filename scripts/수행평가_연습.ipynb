{
 "cells": [
  {
   "cell_type": "code",
   "execution_count": 1,
   "metadata": {},
   "outputs": [
    {
     "name": "stdout",
     "output_type": "stream",
     "text": [
      "34 12\n"
     ]
    }
   ],
   "source": [
    "a, b = 12, 34\n",
    "a, b = b, a\n",
    "print(a, b)"
   ]
  },
  {
   "cell_type": "code",
   "execution_count": 2,
   "metadata": {},
   "outputs": [
    {
     "name": "stdout",
     "output_type": "stream",
     "text": [
      "요소 추가 이전: {}\n",
      "요소 추가 이후: {'작가': '황미나', '연재작': '이오니아의 푸른 별', '최근작': '보톡스'}\n",
      "요소 제거 이후: {'작가': '황미나', '최근작': '보톡스'}\n"
     ]
    }
   ],
   "source": [
    "# 딕셔너리 선언\n",
    "animation = { }\n",
    "\n",
    "# 요소 추가 전에 내용 출력해보기\n",
    "print(\"요소 추가 이전:\", animation)\n",
    "\n",
    "# 딕셔너리에 요소 추가 후 출력\n",
    "animation['작가'] = '황미나'\n",
    "animation['연재작'] = '이오니아의 푸른 별'\n",
    "animation['최근작'] = '보톡스'\n",
    "print(\"요소 추가 이후:\", animation)\n",
    "\n",
    "# 딕셔너리 요소 제거 후 출력\n",
    "animation.pop('연재작')\n",
    "print(\"요소 제거 이후:\", animation)\n"
   ]
  },
  {
   "cell_type": "code",
   "execution_count": 3,
   "metadata": {},
   "outputs": [
    {
     "name": "stdout",
     "output_type": "stream",
     "text": [
      "초록색= green\n",
      "{'빨강': 'red', '주황': 'juhwang', '노': 'yellow', '초': 'green', '남': 'navy', '보': 'purple', '흰': 'white'}\n"
     ]
    }
   ],
   "source": [
    "# 무지개 딕셔너리 선언\n",
    "rainbow = {'빨강' : 'red', '주황' : 'orange', '노' : 'yellow', \n",
    "           '초' : 'green', '파' : 'blue', '남' : 'navy', '보' : 'purple'}\n",
    "\n",
    "# 초록색 키에 대한 값 출력\n",
    "print(\"초록색=\", rainbow['초'])\n",
    "\n",
    "# 딕셔너리에 하얀색 영어 단어 추가\n",
    "rainbow['흰'] = 'white'\n",
    "\n",
    "# 주황색 영어 단어 수정(orange -> juhwang)\n",
    "rainbow['주황'] = 'juhwang'\n",
    "\n",
    "# 파란색 영어 단어 삭제\n",
    "rainbow.pop('파')\n",
    "\n",
    "# 딕셔너리 출력\n",
    "print(rainbow)"
   ]
  },
  {
   "cell_type": "code",
   "execution_count": 4,
   "metadata": {},
   "outputs": [
    {
     "name": "stdout",
     "output_type": "stream",
     "text": [
      "소년\n",
      "None\n",
      "사전에 없는 단어입니다.\n"
     ]
    }
   ],
   "source": [
    "dic = {'boy' : '소년', 'school' : '학교', 'book' : '책'}\n",
    "print(dic.get('boy'))\n",
    "print(dic.get('student'))\n",
    "print(dic.get('student', '사전에 없는 단어입니다.'))"
   ]
  },
  {
   "cell_type": "code",
   "execution_count": 5,
   "metadata": {},
   "outputs": [],
   "source": [
    "dic = {'boy' : '소년', 'school' : '학교', 'book' : '책'}"
   ]
  },
  {
   "cell_type": "code",
   "execution_count": 6,
   "metadata": {},
   "outputs": [
    {
     "name": "stdout",
     "output_type": "stream",
     "text": [
      "boy\n",
      "school\n",
      "book\n"
     ]
    }
   ],
   "source": [
    "for key in dic:\n",
    "    print(key)"
   ]
  },
  {
   "cell_type": "code",
   "execution_count": 7,
   "metadata": {},
   "outputs": [
    {
     "name": "stdout",
     "output_type": "stream",
     "text": [
      "소년\n",
      "학교\n",
      "책\n"
     ]
    }
   ],
   "source": [
    "for value in dic.values():\n",
    "    print(value)"
   ]
  },
  {
   "cell_type": "code",
   "execution_count": 8,
   "metadata": {},
   "outputs": [
    {
     "name": "stdout",
     "output_type": "stream",
     "text": [
      "('boy', '소년')\n",
      "('school', '학교')\n",
      "('book', '책')\n"
     ]
    }
   ],
   "source": [
    "for item in dic.items():\n",
    "    print(item)"
   ]
  },
  {
   "cell_type": "code",
   "execution_count": 12,
   "metadata": {},
   "outputs": [
    {
     "name": "stdout",
     "output_type": "stream",
     "text": [
      "#우리 동네 애완 동물들#\n",
      "구름 5 살\n",
      "초코 3 살\n",
      "아지 1 살\n",
      "호랑이 1 살\n"
     ]
    }
   ],
   "source": [
    "pets = [{\"name\":\"구름\", \"age\":5},\n",
    "        {\"name\":\"초코\", \"age\":3},\n",
    "        {\"name\":\"아지\", \"age\":1},\n",
    "        {\"name\":\"호랑이\", \"age\":1},]\n",
    "print(\"#우리 동네 애완 동물들#\")\n",
    "for pet in pets:\n",
    "    print(pet['name'], pet['age'], '살')"
   ]
  },
  {
   "cell_type": "code",
   "execution_count": 21,
   "metadata": {},
   "outputs": [
    {
     "name": "stdout",
     "output_type": "stream",
     "text": [
      "{1: 3, 2: 1, 3: 3, 4: 1, 5: 4, 6: 1, 8: 1, 9: 2, 7: 2}\n"
     ]
    }
   ],
   "source": [
    "numbers =  [1, 2, 3, 4, 5, 6, 8, 9, 5, 1, 7, 3, 5, 1, 3, 5, 7, 9]\n",
    "count = {}  # 등장 횟수를 저장하는 딕셔너리\n",
    "for n in numbers:\n",
    "    if count.get(n) == None:\n",
    "        count[n] = 1\n",
    "    else:\n",
    "        count[n] += 1\n",
    "\n",
    "print(count)"
   ]
  },
  {
   "cell_type": "code",
   "execution_count": 16,
   "metadata": {},
   "outputs": [
    {
     "name": "stdout",
     "output_type": "stream",
     "text": [
      "{'b': 3, 'y': 2, '': 4, 't': 1, 'h': 1, 'e': 2, 'r': 2, 'i': 1, 'v': 1, 's': 1, 'o': 2, 'f': 1, 'a': 1, 'l': 1, 'n': 1}\n"
     ]
    }
   ],
   "source": [
    "song = \"by the rivers of babylon\"\n",
    "alphabet = dict()\n",
    "\n",
    "for c in song:\n",
    "    if c.isalpha() == False:\n",
    "        c = ''\n",
    "    c = c.lower()\n",
    "    if alphabet.get(c) == None:\n",
    "        alphabet[c] = 1\n",
    "    else:\n",
    "        alphabet[c] += 1\n",
    "        \n",
    "print(alphabet)"
   ]
  },
  {
   "cell_type": "code",
   "execution_count": 17,
   "metadata": {},
   "outputs": [
    {
     "name": "stdout",
     "output_type": "stream",
     "text": [
      "Hello World!\n"
     ]
    }
   ],
   "source": [
    "# 함수 정의\n",
    "def Hi():\n",
    "    print('Hello World!')\n",
    "Hi()"
   ]
  },
  {
   "cell_type": "code",
   "execution_count": 18,
   "metadata": {},
   "outputs": [
    {
     "name": "stdout",
     "output_type": "stream",
     "text": [
      "6.0\n"
     ]
    }
   ],
   "source": [
    "# 함수 정의\n",
    "def avg(a, b, c):\n",
    "    print(round((a+b+c)/3.0, 1))\n",
    "\n",
    "avg(3, 5, 10)"
   ]
  },
  {
   "cell_type": "code",
   "execution_count": 19,
   "metadata": {},
   "outputs": [
    {
     "name": "stdout",
     "output_type": "stream",
     "text": [
      "안녕하세요 즐거운 파이썬 \n",
      "안녕하세요 즐거운 파이썬 \n",
      "즐거운 파이썬 \n"
     ]
    }
   ],
   "source": [
    "def print_n_times(n, *values):\n",
    "    for i in range(n):\n",
    "        for value in values:\n",
    "            print(value, end = ' ')\n",
    "        print()\n",
    "\n",
    "print_n_times(2, '안녕하세요', '즐거운', '파이썬')\n",
    "print_n_times(1, '즐거운', '파이썬')"
   ]
  },
  {
   "cell_type": "code",
   "execution_count": 22,
   "metadata": {},
   "outputs": [
    {
     "name": "stdout",
     "output_type": "stream",
     "text": [
      "15\n",
      "6\n"
     ]
    }
   ],
   "source": [
    "def add_mul(choice, *args):\n",
    "    if choice == 'add':\n",
    "        result = 0\n",
    "        for i in args:\n",
    "            result += i\n",
    "    elif choice == 'mul':\n",
    "        result = 1\n",
    "        for i in args:\n",
    "            result *= i\n",
    "    return result\n",
    "\n",
    "print(add_mul('add', 1, 2, 3, 4, 5))\n",
    "print(add_mul('mul', 1, 2, 3))"
   ]
  },
  {
   "cell_type": "code",
   "execution_count": 24,
   "metadata": {},
   "outputs": [
    {
     "name": "stdout",
     "output_type": "stream",
     "text": [
      "1부터 100까지 숫자 중 2간격씩 더한 값은 2500\n",
      "1부터 100까지 숫자 중 1간격씩 더한 값은 5050\n"
     ]
    }
   ],
   "source": [
    "def cafcstep(begin, end, step=1):\n",
    "    sum = 0\n",
    "    for num in range(begin, end+1, step):\n",
    "        sum += num\n",
    "    print(f\"{begin}부터 {end}까지 숫자 중 {step}간격씩 더한 값은 {sum}\")\n",
    "    \n",
    "cafcstep(1, 100, 2)\n",
    "cafcstep(1, 100)"
   ]
  },
  {
   "cell_type": "code",
   "execution_count": 25,
   "metadata": {},
   "outputs": [
    {
     "name": "stdout",
     "output_type": "stream",
     "text": [
      "1 2 3 4 5\n"
     ]
    }
   ],
   "source": [
    "def fn(a, b, c, d, e):\n",
    "    print(a, b, c, d, e)\n",
    "    \n",
    "fn(1, 2, d=4, c=3, e=5)"
   ]
  },
  {
   "cell_type": "code",
   "execution_count": 29,
   "metadata": {},
   "outputs": [
    {
     "name": "stdout",
     "output_type": "stream",
     "text": [
      "A위치입니다.\n"
     ]
    }
   ],
   "source": [
    "def test():\n",
    "    print(\"A위치입니다.\")\n",
    "    return\n",
    "    print(\"B위치입니다.\")\n",
    "    \n",
    "test()"
   ]
  },
  {
   "cell_type": "code",
   "execution_count": 30,
   "metadata": {},
   "outputs": [
    {
     "name": "stdout",
     "output_type": "stream",
     "text": [
      "최소:-21 최대:89\n"
     ]
    }
   ],
   "source": [
    "def min_max(*args):\n",
    "    min = 9999999\n",
    "    max = 0\n",
    "    for arg in args:\n",
    "        if min > arg:\n",
    "            min = arg\n",
    "        if max < arg:\n",
    "            max = arg\n",
    "    return min, max\n",
    "\n",
    "min, max = min_max(52, -3, 23, 89, -21)\n",
    "print(f\"최소:{min} 최대:{max}\")"
   ]
  },
  {
   "cell_type": "code",
   "execution_count": 32,
   "metadata": {},
   "outputs": [
    {
     "name": "stdout",
     "output_type": "stream",
     "text": [
      "현재점수 : 5\n",
      "현재점수 : 10\n",
      "최종점수 : 9\n"
     ]
    }
   ],
   "source": [
    "def reward_penalty(kind, points):\n",
    "    global current_point\n",
    "    print('현재점수 :', current_point)\n",
    "    # 상점일 경우\n",
    "    if kind == '상점':\n",
    "        current_point += points\n",
    "    # 벌점일 경우\n",
    "    elif kind == '벌점':\n",
    "        current_point -= points\n",
    "\n",
    "current_point = 5\n",
    "reward_penalty('상점', 5)\n",
    "reward_penalty('벌점', 1)\n",
    "print('최종점수 :', current_point)"
   ]
  },
  {
   "cell_type": "code",
   "execution_count": 11,
   "metadata": {},
   "outputs": [],
   "source": [
    "# 방법(1)\n",
    "file = open(\"basic.txt\", \"w\")\n",
    "file.write('Hello Python Programming')\n",
    "file.close()\n",
    "\n",
    "# 방법(2)\n",
    "with open('basic2.txt', 'w') as file:\n",
    "    file.write('Hello Python Programming')"
   ]
  },
  {
   "cell_type": "code",
   "execution_count": 12,
   "metadata": {},
   "outputs": [],
   "source": [
    "import random\n",
    "\n",
    "# 간단한 한글 리스트 만들기\n",
    "hanguls = list('가나라다라마바사아자차카타파하')\n",
    "\n",
    "# 파일 생성하기\n",
    "with open('info.txt', 'w') as file:\n",
    "    for i in range(50):\n",
    "        name = random.choice(hanguls) + random.choice(hanguls)\n",
    "        weight = random.randrange(40, 100)\n",
    "        height = random.randrange(140, 200)\n",
    "        file.write(f\"{name},{weight},{height}\\n\")"
   ]
  },
  {
   "cell_type": "code",
   "execution_count": 13,
   "metadata": {},
   "outputs": [
    {
     "name": "stdout",
     "output_type": "stream",
     "text": [
      "이름: 라카\n",
      "몸무게 : 96\n",
      "키 : 194\n",
      "BMI : 25.507492826017643\n",
      "\n",
      "이름: 파차\n",
      "몸무게 : 84\n",
      "키 : 188\n",
      "BMI : 23.766410140334994\n",
      "\n",
      "이름: 나아\n",
      "몸무게 : 46\n",
      "키 : 170\n",
      "BMI : 15.91695501730104\n",
      "\n",
      "이름: 가라\n",
      "몸무게 : 46\n",
      "키 : 199\n",
      "BMI : 11.61586828615439\n",
      "\n",
      "이름: 나파\n",
      "몸무게 : 62\n",
      "키 : 167\n",
      "BMI : 22.230987127541326\n",
      "\n",
      "이름: 나하\n",
      "몸무게 : 97\n",
      "키 : 189\n",
      "BMI : 27.154894879762605\n",
      "\n",
      "이름: 나카\n",
      "몸무게 : 45\n",
      "키 : 190\n",
      "BMI : 12.465373961218837\n",
      "\n",
      "이름: 카바\n",
      "몸무게 : 70\n",
      "키 : 158\n",
      "BMI : 28.040378144528116\n",
      "\n",
      "이름: 가다\n",
      "몸무게 : 61\n",
      "키 : 186\n",
      "BMI : 17.632096196092032\n",
      "\n",
      "이름: 라타\n",
      "몸무게 : 65\n",
      "키 : 161\n",
      "BMI : 25.076193048107708\n",
      "\n",
      "이름: 마카\n",
      "몸무게 : 97\n",
      "키 : 170\n",
      "BMI : 33.564013840830455\n",
      "\n",
      "이름: 카가\n",
      "몸무게 : 68\n",
      "키 : 165\n",
      "BMI : 24.977043158861342\n",
      "\n",
      "이름: 아차\n",
      "몸무게 : 54\n",
      "키 : 162\n",
      "BMI : 20.576131687242793\n",
      "\n",
      "이름: 파파\n",
      "몸무게 : 44\n",
      "키 : 144\n",
      "BMI : 21.219135802469136\n",
      "\n",
      "이름: 아라\n",
      "몸무게 : 48\n",
      "키 : 177\n",
      "BMI : 15.321267834913337\n",
      "\n",
      "이름: 타차\n",
      "몸무게 : 60\n",
      "키 : 166\n",
      "BMI : 21.773842357381334\n",
      "\n",
      "이름: 라타\n",
      "몸무게 : 48\n",
      "키 : 187\n",
      "BMI : 13.72644342131602\n",
      "\n",
      "이름: 하라\n",
      "몸무게 : 82\n",
      "키 : 190\n",
      "BMI : 22.714681440443215\n",
      "\n",
      "이름: 사마\n",
      "몸무게 : 69\n",
      "키 : 155\n",
      "BMI : 28.720083246618103\n",
      "\n",
      "이름: 사자\n",
      "몸무게 : 42\n",
      "키 : 170\n",
      "BMI : 14.532871972318341\n",
      "\n",
      "이름: 파타\n",
      "몸무게 : 85\n",
      "키 : 151\n",
      "BMI : 37.27906670760054\n",
      "\n",
      "이름: 자바\n",
      "몸무게 : 91\n",
      "키 : 153\n",
      "BMI : 38.87393737451408\n",
      "\n",
      "이름: 아하\n",
      "몸무게 : 93\n",
      "키 : 172\n",
      "BMI : 31.435911303407252\n",
      "\n",
      "이름: 가다\n",
      "몸무게 : 44\n",
      "키 : 162\n",
      "BMI : 16.76573693034598\n",
      "\n",
      "이름: 자가\n",
      "몸무게 : 90\n",
      "키 : 198\n",
      "BMI : 22.95684113865932\n",
      "\n",
      "이름: 나파\n",
      "몸무게 : 51\n",
      "키 : 186\n",
      "BMI : 14.74158862296219\n",
      "\n",
      "이름: 타라\n",
      "몸무게 : 55\n",
      "키 : 187\n",
      "BMI : 15.72821642025794\n",
      "\n",
      "이름: 파자\n",
      "몸무게 : 92\n",
      "키 : 192\n",
      "BMI : 24.95659722222222\n",
      "\n",
      "이름: 가마\n",
      "몸무게 : 90\n",
      "키 : 145\n",
      "BMI : 42.80618311533888\n",
      "\n",
      "이름: 가카\n",
      "몸무게 : 95\n",
      "키 : 181\n",
      "BMI : 28.997893837184456\n",
      "\n",
      "이름: 바차\n",
      "몸무게 : 92\n",
      "키 : 191\n",
      "BMI : 25.218606946081522\n",
      "\n",
      "이름: 가차\n",
      "몸무게 : 60\n",
      "키 : 183\n",
      "BMI : 17.916330735465376\n",
      "\n",
      "이름: 마마\n",
      "몸무게 : 65\n",
      "키 : 157\n",
      "BMI : 26.370238143535232\n",
      "\n",
      "이름: 카바\n",
      "몸무게 : 75\n",
      "키 : 152\n",
      "BMI : 32.46191135734072\n",
      "\n",
      "이름: 하마\n",
      "몸무게 : 70\n",
      "키 : 168\n",
      "BMI : 24.801587301587304\n",
      "\n",
      "이름: 바바\n",
      "몸무게 : 76\n",
      "키 : 151\n",
      "BMI : 33.33187140914872\n",
      "\n",
      "이름: 타차\n",
      "몸무게 : 64\n",
      "키 : 165\n",
      "BMI : 23.507805325987146\n",
      "\n",
      "이름: 사라\n",
      "몸무게 : 44\n",
      "키 : 154\n",
      "BMI : 18.55287569573284\n",
      "\n",
      "이름: 차마\n",
      "몸무게 : 98\n",
      "키 : 140\n",
      "BMI : 50.00000000000001\n",
      "\n",
      "이름: 하파\n",
      "몸무게 : 71\n",
      "키 : 184\n",
      "BMI : 20.97117202268431\n",
      "\n",
      "이름: 파가\n",
      "몸무게 : 50\n",
      "키 : 183\n",
      "BMI : 14.930275612887812\n",
      "\n",
      "이름: 차가\n",
      "몸무게 : 90\n",
      "키 : 183\n",
      "BMI : 26.874496103198062\n",
      "\n",
      "이름: 나가\n",
      "몸무게 : 90\n",
      "키 : 143\n",
      "BMI : 44.011932123820245\n",
      "\n",
      "이름: 타자\n",
      "몸무게 : 40\n",
      "키 : 179\n",
      "BMI : 12.484004868761899\n",
      "\n",
      "이름: 나나\n",
      "몸무게 : 42\n",
      "키 : 151\n",
      "BMI : 18.420244726108503\n",
      "\n",
      "이름: 바파\n",
      "몸무게 : 55\n",
      "키 : 156\n",
      "BMI : 22.600262984878366\n",
      "\n",
      "이름: 다아\n",
      "몸무게 : 94\n",
      "키 : 142\n",
      "BMI : 46.61773457647292\n",
      "\n",
      "이름: 바라\n",
      "몸무게 : 68\n",
      "키 : 173\n",
      "BMI : 22.720438370810918\n",
      "\n",
      "이름: 아마\n",
      "몸무게 : 57\n",
      "키 : 155\n",
      "BMI : 23.725286160249738\n",
      "\n",
      "이름: 카라\n",
      "몸무게 : 76\n",
      "키 : 167\n",
      "BMI : 27.250887446663558\n",
      "\n"
     ]
    }
   ],
   "source": [
    "with open('info.txt', 'r') as file:\n",
    "    for line in file:\n",
    "        name, weight, height = line.strip().split(',')\n",
    "        bmi = int(weight)/((int(height)/100)**2)\n",
    "        print(\"\\n\".join([\n",
    "            \"이름: {}\",\n",
    "            \"몸무게 : {}\",\n",
    "            \"키 : {}\",\n",
    "            \"BMI : {}\"\n",
    "        ]).format(name, weight, height, bmi))\n",
    "        print()"
   ]
  },
  {
   "cell_type": "code",
   "execution_count": 43,
   "metadata": {},
   "outputs": [],
   "source": [
    "# 클래스 정의\n",
    "class Character:\n",
    "    \n",
    "    # 생성자 정의\n",
    "    def __init__(self, name, hp, ad):\n",
    "        self.name = name\n",
    "        self.hp = hp\n",
    "        self.ad = ad\n",
    "        print('객체 생성 :', self.name)\n",
    "    \n",
    "    # information() 정의\n",
    "    def information(self):\n",
    "        print(self.name, self.hp, self.ad)\n",
    "        \n",
    "    # attack() 정의\n",
    "    def attack(self, enemy):\n",
    "        enemy.hp -= self.ad\n",
    "        print(self.name + '이/가 ' + enemy.name + '을 공격합니다.')\n",
    "        print(f\"공격성공! {enemy.name}(남은체력{enemy.hp})\")    "
   ]
  },
  {
   "cell_type": "code",
   "execution_count": 44,
   "metadata": {},
   "outputs": [
    {
     "name": "stdout",
     "output_type": "stream",
     "text": [
      "객체 생성 : 검술사\n",
      "객체 생성 : 요정\n",
      "객체 생성 : 도적\n"
     ]
    }
   ],
   "source": [
    "# 검술사, 요정, 도적 객체 생성\n",
    "swordsman = Character('검술사', 100, 10)\n",
    "fairy = Character('요정', 60, 5)\n",
    "thief = Character('도적', 85, 8)"
   ]
  },
  {
   "cell_type": "code",
   "execution_count": 45,
   "metadata": {},
   "outputs": [
    {
     "name": "stdout",
     "output_type": "stream",
     "text": [
      "검술사이/가 요정을 공격합니다.\n",
      "공격성공! 요정(남은체력50)\n",
      "도적이/가 요정을 공격합니다.\n",
      "공격성공! 요정(남은체력42)\n"
     ]
    }
   ],
   "source": [
    "# 검술사가 요정 공격\n",
    "swordsman.attack(fairy)\n",
    "# 도적이 요정 공격\n",
    "thief.attack(fairy)"
   ]
  }
 ],
 "metadata": {
  "kernelspec": {
   "display_name": "Python 3",
   "language": "python",
   "name": "python3"
  },
  "language_info": {
   "codemirror_mode": {
    "name": "ipython",
    "version": 3
   },
   "file_extension": ".py",
   "mimetype": "text/x-python",
   "name": "python",
   "nbconvert_exporter": "python",
   "pygments_lexer": "ipython3",
   "version": "3.11.2"
  },
  "orig_nbformat": 4,
  "vscode": {
   "interpreter": {
    "hash": "9f2d751933a5996b525ffba800f1a3f1fddb9439b82457ff3b88d87342d477cc"
   }
  }
 },
 "nbformat": 4,
 "nbformat_minor": 2
}
